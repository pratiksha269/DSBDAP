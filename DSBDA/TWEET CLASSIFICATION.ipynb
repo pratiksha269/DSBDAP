{
 "cells": [
  {
   "cell_type": "code",
   "execution_count": 1,
   "id": "5429a667",
   "metadata": {},
   "outputs": [],
   "source": [
    "import pickle\n",
    "import pandas as pd\n",
    "import seaborn as sns\n",
    "import matplotlib.pyplot as plt\n",
    "from collections import Counter\n",
    "\n",
    "import nltk\n",
    "from nltk.corpus import stopwords\n",
    "from nltk.stem import PorterStemmer, LancasterStemmer\n",
    "from nltk.tokenize import sent_tokenize, word_tokenize, RegexpTokenizer\n",
    "\n",
    "from sklearn.metrics import accuracy_score\n",
    "from sklearn.linear_model import LogisticRegression\n",
    "from sklearn.model_selection import train_test_split\n",
    "from sklearn.feature_extraction.text import CountVectorizer, TfidfVectorizer\n",
    "\n",
    "%matplotlib inline"
   ]
  },
  {
   "cell_type": "markdown",
   "id": "43ad37d3",
   "metadata": {},
   "source": [
    "# Data Exploration"
   ]
  },
  {
   "cell_type": "code",
   "execution_count": 2,
   "id": "9d0ca337",
   "metadata": {},
   "outputs": [],
   "source": [
    "DATASET_COLUMNS = [\"target\", \"ids\", \"date\", \"flag\", \"user\", \"text\"]\n",
    "data = pd.read_csv(\"Input/tweets.csv\", encoding='ISO-8859-1')\n",
    "data.columns = DATASET_COLUMNS"
   ]
  },
  {
   "cell_type": "code",
   "execution_count": 15,
   "id": "e25c8288",
   "metadata": {},
   "outputs": [
    {
     "data": {
      "text/plain": [
       "(799999, 6)"
      ]
     },
     "execution_count": 15,
     "metadata": {},
     "output_type": "execute_result"
    }
   ],
   "source": [
    "data0 = pd.DataFrame()\n",
    "data0 = data.loc[data['target']==0]\n",
    "data0.shape"
   ]
  },
  {
   "cell_type": "code",
   "execution_count": 24,
   "id": "a5ee2271",
   "metadata": {},
   "outputs": [
    {
     "data": {
      "text/html": [
       "<div>\n",
       "<style scoped>\n",
       "    .dataframe tbody tr th:only-of-type {\n",
       "        vertical-align: middle;\n",
       "    }\n",
       "\n",
       "    .dataframe tbody tr th {\n",
       "        vertical-align: top;\n",
       "    }\n",
       "\n",
       "    .dataframe thead th {\n",
       "        text-align: right;\n",
       "    }\n",
       "</style>\n",
       "<table border=\"1\" class=\"dataframe\">\n",
       "  <thead>\n",
       "    <tr style=\"text-align: right;\">\n",
       "      <th></th>\n",
       "      <th>target</th>\n",
       "      <th>ids</th>\n",
       "      <th>date</th>\n",
       "      <th>flag</th>\n",
       "      <th>user</th>\n",
       "      <th>text</th>\n",
       "    </tr>\n",
       "  </thead>\n",
       "  <tbody>\n",
       "    <tr>\n",
       "      <th>799999</th>\n",
       "      <td>4</td>\n",
       "      <td>1467822272</td>\n",
       "      <td>Mon Apr 06 22:22:45 PDT 2009</td>\n",
       "      <td>NO_QUERY</td>\n",
       "      <td>ersle</td>\n",
       "      <td>I LOVE @Health4UandPets u guys r the best!!</td>\n",
       "    </tr>\n",
       "    <tr>\n",
       "      <th>800000</th>\n",
       "      <td>4</td>\n",
       "      <td>1467822273</td>\n",
       "      <td>Mon Apr 06 22:22:45 PDT 2009</td>\n",
       "      <td>NO_QUERY</td>\n",
       "      <td>becca210</td>\n",
       "      <td>im meeting up with one of my besties tonight! ...</td>\n",
       "    </tr>\n",
       "    <tr>\n",
       "      <th>800001</th>\n",
       "      <td>4</td>\n",
       "      <td>1467822283</td>\n",
       "      <td>Mon Apr 06 22:22:46 PDT 2009</td>\n",
       "      <td>NO_QUERY</td>\n",
       "      <td>Wingman29</td>\n",
       "      <td>@DaRealSunisaKim Thanks for the Twitter add, S...</td>\n",
       "    </tr>\n",
       "    <tr>\n",
       "      <th>800002</th>\n",
       "      <td>4</td>\n",
       "      <td>1467822287</td>\n",
       "      <td>Mon Apr 06 22:22:46 PDT 2009</td>\n",
       "      <td>NO_QUERY</td>\n",
       "      <td>katarinka</td>\n",
       "      <td>Being sick can be really cheap when it hurts t...</td>\n",
       "    </tr>\n",
       "    <tr>\n",
       "      <th>800003</th>\n",
       "      <td>4</td>\n",
       "      <td>1467822293</td>\n",
       "      <td>Mon Apr 06 22:22:46 PDT 2009</td>\n",
       "      <td>NO_QUERY</td>\n",
       "      <td>_EmilyYoung</td>\n",
       "      <td>@LovesBrooklyn2 he has that effect on everyone</td>\n",
       "    </tr>\n",
       "  </tbody>\n",
       "</table>\n",
       "</div>"
      ],
      "text/plain": [
       "        target         ids                          date      flag  \\\n",
       "799999       4  1467822272  Mon Apr 06 22:22:45 PDT 2009  NO_QUERY   \n",
       "800000       4  1467822273  Mon Apr 06 22:22:45 PDT 2009  NO_QUERY   \n",
       "800001       4  1467822283  Mon Apr 06 22:22:46 PDT 2009  NO_QUERY   \n",
       "800002       4  1467822287  Mon Apr 06 22:22:46 PDT 2009  NO_QUERY   \n",
       "800003       4  1467822293  Mon Apr 06 22:22:46 PDT 2009  NO_QUERY   \n",
       "\n",
       "               user                                               text  \n",
       "799999        ersle       I LOVE @Health4UandPets u guys r the best!!   \n",
       "800000     becca210  im meeting up with one of my besties tonight! ...  \n",
       "800001    Wingman29  @DaRealSunisaKim Thanks for the Twitter add, S...  \n",
       "800002    katarinka  Being sick can be really cheap when it hurts t...  \n",
       "800003  _EmilyYoung    @LovesBrooklyn2 he has that effect on everyone   "
      ]
     },
     "execution_count": 24,
     "metadata": {},
     "output_type": "execute_result"
    }
   ],
   "source": [
    "data1 = pd.DataFrame()\n",
    "data1 = data.loc[data['target']==4]\n",
    "data1.head()"
   ]
  },
  {
   "cell_type": "code",
   "execution_count": 25,
   "id": "f37b8c74",
   "metadata": {},
   "outputs": [
    {
     "data": {
      "text/plain": [
       "(751, 6)"
      ]
     },
     "execution_count": 25,
     "metadata": {},
     "output_type": "execute_result"
    }
   ],
   "source": [
    "data0 = data0.loc[0:749]\n",
    "data1 = data1.loc[799999:800748]\n",
    "data0.shape\n",
    "data1.shape"
   ]
  },
  {
   "cell_type": "code",
   "execution_count": 26,
   "id": "9b6e7c50",
   "metadata": {},
   "outputs": [],
   "source": [
    "data = pd.concat([data0,data1],axis=0)"
   ]
  },
  {
   "cell_type": "code",
   "execution_count": 28,
   "id": "153e1475",
   "metadata": {
    "scrolled": true
   },
   "outputs": [
    {
     "data": {
      "text/plain": [
       "(1501, 6)"
      ]
     },
     "execution_count": 28,
     "metadata": {},
     "output_type": "execute_result"
    }
   ],
   "source": [
    "data.shape"
   ]
  },
  {
   "cell_type": "code",
   "execution_count": 29,
   "id": "18927958",
   "metadata": {},
   "outputs": [
    {
     "data": {
      "text/html": [
       "<div>\n",
       "<style scoped>\n",
       "    .dataframe tbody tr th:only-of-type {\n",
       "        vertical-align: middle;\n",
       "    }\n",
       "\n",
       "    .dataframe tbody tr th {\n",
       "        vertical-align: top;\n",
       "    }\n",
       "\n",
       "    .dataframe thead th {\n",
       "        text-align: right;\n",
       "    }\n",
       "</style>\n",
       "<table border=\"1\" class=\"dataframe\">\n",
       "  <thead>\n",
       "    <tr style=\"text-align: right;\">\n",
       "      <th></th>\n",
       "      <th>target</th>\n",
       "      <th>ids</th>\n",
       "      <th>date</th>\n",
       "      <th>flag</th>\n",
       "      <th>user</th>\n",
       "      <th>text</th>\n",
       "    </tr>\n",
       "  </thead>\n",
       "  <tbody>\n",
       "    <tr>\n",
       "      <th>800747</th>\n",
       "      <td>4</td>\n",
       "      <td>1467954085</td>\n",
       "      <td>Mon Apr 06 22:58:42 PDT 2009</td>\n",
       "      <td>NO_QUERY</td>\n",
       "      <td>rachelw627</td>\n",
       "      <td>@JonathanRKnight or are you a Mac?  then you c...</td>\n",
       "    </tr>\n",
       "    <tr>\n",
       "      <th>800748</th>\n",
       "      <td>4</td>\n",
       "      <td>1467954088</td>\n",
       "      <td>Mon Apr 06 22:58:42 PDT 2009</td>\n",
       "      <td>NO_QUERY</td>\n",
       "      <td>parvathiom</td>\n",
       "      <td>@rashmid congratulations!! tht makes a lot of ...</td>\n",
       "    </tr>\n",
       "    <tr>\n",
       "      <th>800749</th>\n",
       "      <td>4</td>\n",
       "      <td>1467954149</td>\n",
       "      <td>Mon Apr 06 22:58:43 PDT 2009</td>\n",
       "      <td>NO_QUERY</td>\n",
       "      <td>vivalavia</td>\n",
       "      <td>@colorofviolence yay  i'm happy for you guys.....</td>\n",
       "    </tr>\n",
       "  </tbody>\n",
       "</table>\n",
       "</div>"
      ],
      "text/plain": [
       "        target         ids                          date      flag  \\\n",
       "800747       4  1467954085  Mon Apr 06 22:58:42 PDT 2009  NO_QUERY   \n",
       "800748       4  1467954088  Mon Apr 06 22:58:42 PDT 2009  NO_QUERY   \n",
       "800749       4  1467954149  Mon Apr 06 22:58:43 PDT 2009  NO_QUERY   \n",
       "\n",
       "              user                                               text  \n",
       "800747  rachelw627  @JonathanRKnight or are you a Mac?  then you c...  \n",
       "800748  parvathiom  @rashmid congratulations!! tht makes a lot of ...  \n",
       "800749   vivalavia  @colorofviolence yay  i'm happy for you guys.....  "
      ]
     },
     "execution_count": 29,
     "metadata": {},
     "output_type": "execute_result"
    }
   ],
   "source": [
    "data.tail(3)"
   ]
  },
  {
   "cell_type": "code",
   "execution_count": 30,
   "id": "01f8ecbf",
   "metadata": {},
   "outputs": [
    {
     "name": "stdout",
     "output_type": "stream",
     "text": [
      "<class 'pandas.core.frame.DataFrame'>\n",
      "Int64Index: 1501 entries, 0 to 800749\n",
      "Data columns (total 6 columns):\n",
      " #   Column  Non-Null Count  Dtype \n",
      "---  ------  --------------  ----- \n",
      " 0   target  1501 non-null   int64 \n",
      " 1   ids     1501 non-null   int64 \n",
      " 2   date    1501 non-null   object\n",
      " 3   flag    1501 non-null   object\n",
      " 4   user    1501 non-null   object\n",
      " 5   text    1501 non-null   object\n",
      "dtypes: int64(2), object(4)\n",
      "memory usage: 82.1+ KB\n"
     ]
    }
   ],
   "source": [
    "data.info()"
   ]
  },
  {
   "cell_type": "code",
   "execution_count": 31,
   "id": "4118117c",
   "metadata": {},
   "outputs": [
    {
     "data": {
      "text/plain": [
       "\"@smarrison i would've been the first, but i didn't have a gun.    not really though, zac snyder's just a doucheclown.\""
      ]
     },
     "execution_count": 31,
     "metadata": {},
     "output_type": "execute_result"
    }
   ],
   "source": [
    "data.loc[13, \"text\"]"
   ]
  },
  {
   "cell_type": "code",
   "execution_count": 32,
   "id": "a6441791",
   "metadata": {},
   "outputs": [
    {
     "data": {
      "text/plain": [
       "0"
      ]
     },
     "execution_count": 32,
     "metadata": {},
     "output_type": "execute_result"
    }
   ],
   "source": [
    "data.loc[13, \"target\"]"
   ]
  },
  {
   "cell_type": "markdown",
   "id": "137fce58",
   "metadata": {},
   "source": [
    "### Bar plot of 'Sentiment'"
   ]
  },
  {
   "cell_type": "code",
   "execution_count": 42,
   "id": "769c9054",
   "metadata": {},
   "outputs": [
    {
     "data": {
      "image/png": "[encoded data removed]",
      "text/plain": [
       "<Figure size 432x288 with 1 Axes>"
      ]
     },
     "metadata": {
      "needs_background": "light"
     },
     "output_type": "display_data"
    }
   ],
   "source": [
    "sns.countplot(x=\"target\", data=data)\n",
    "plt.show()"
   ]
  },
  {
   "cell_type": "code",
   "execution_count": 43,
   "id": "c4b8daf7",
   "metadata": {},
   "outputs": [
    {
     "data": {
      "text/plain": [
       "4    751\n",
       "0    750\n",
       "Name: target, dtype: int64"
      ]
     },
     "execution_count": 43,
     "metadata": {},
     "output_type": "execute_result"
    }
   ],
   "source": [
    "data[\"target\"].value_counts()"
   ]
  },
  {
   "cell_type": "code",
   "execution_count": null,
   "id": "83751fa9",
   "metadata": {},
   "outputs": [],
   "source": [
    "468/(1032+468)"
   ]
  },
  {
   "cell_type": "markdown",
   "id": "fd824dff",
   "metadata": {},
   "source": [
    "### Find the length of each 'review'"
   ]
  },
  {
   "cell_type": "code",
   "execution_count": 44,
   "id": "e26ea0c5",
   "metadata": {},
   "outputs": [],
   "source": [
    "data[\"len\"] = data[\"text\"].apply(len)"
   ]
  },
  {
   "cell_type": "code",
   "execution_count": 45,
   "id": "aacea977",
   "metadata": {},
   "outputs": [
    {
     "data": {
      "text/plain": [
       "count    1501.000000\n",
       "mean       75.815456\n",
       "std        36.765816\n",
       "min         8.000000\n",
       "25%        46.000000\n",
       "50%        71.000000\n",
       "75%       105.000000\n",
       "max       152.000000\n",
       "Name: len, dtype: float64"
      ]
     },
     "execution_count": 45,
     "metadata": {},
     "output_type": "execute_result"
    }
   ],
   "source": [
    "data[\"len\"].describe()"
   ]
  },
  {
   "cell_type": "markdown",
   "id": "1eea40cd",
   "metadata": {},
   "source": [
    "### Plot the histogram of 'len'"
   ]
  },
  {
   "cell_type": "code",
   "execution_count": 46,
   "id": "fdc54f54",
   "metadata": {},
   "outputs": [
    {
     "data": {
      "image/png": "[encoded data removed]",
      "text/plain": [
       "<Figure size 360x360 with 1 Axes>"
      ]
     },
     "metadata": {
      "needs_background": "light"
     },
     "output_type": "display_data"
    }
   ],
   "source": [
    "sns.displot(data[\"len\"])\n",
    "plt.show()"
   ]
  },
  {
   "cell_type": "markdown",
   "id": "6f035532",
   "metadata": {},
   "source": [
    "### Plot the distribution of 'len' for different 'Sentiment' types"
   ]
  },
  {
   "cell_type": "code",
   "execution_count": 47,
   "id": "5d6534e9",
   "metadata": {},
   "outputs": [
    {
     "data": {
      "image/png": "[encoded data removed]",
      "text/plain": [
       "<Figure size 402.375x360 with 1 Axes>"
      ]
     },
     "metadata": {
      "needs_background": "light"
     },
     "output_type": "display_data"
    }
   ],
   "source": [
    "sns.displot(data=data, x=\"len\", hue=\"target\", kind=\"kde\", fill=True)\n",
    "plt.show()"
   ]
  },
  {
   "cell_type": "markdown",
   "id": "a93fea6c",
   "metadata": {},
   "source": [
    "# Tokenization"
   ]
  },
  {
   "cell_type": "code",
   "execution_count": 48,
   "id": "76df278e",
   "metadata": {},
   "outputs": [],
   "source": [
    "data = data[[\"text\", \"target\"]]"
   ]
  },
  {
   "cell_type": "code",
   "execution_count": 49,
   "id": "66800c47",
   "metadata": {},
   "outputs": [
    {
     "data": {
      "text/plain": [
       "\"@smarrison i would've been the first, but i didn't have a gun.    not really though, zac snyder's just a doucheclown.\""
      ]
     },
     "execution_count": 49,
     "metadata": {},
     "output_type": "execute_result"
    }
   ],
   "source": [
    "data.loc[13, \"text\"]"
   ]
  },
  {
   "cell_type": "code",
   "execution_count": 50,
   "id": "1dd5b42c",
   "metadata": {},
   "outputs": [
    {
     "data": {
      "text/plain": [
       "[\"@smarrison i would've been the first, but i didn't have a gun.\",\n",
       " \"not really though, zac snyder's just a doucheclown.\"]"
      ]
     },
     "execution_count": 50,
     "metadata": {},
     "output_type": "execute_result"
    }
   ],
   "source": [
    "sent_tokenize(data.loc[13,\"text\"])"
   ]
  },
  {
   "cell_type": "code",
   "execution_count": 52,
   "id": "b04e56de",
   "metadata": {},
   "outputs": [
    {
     "data": {
      "text/plain": [
       "['@',\n",
       " 'smarrison',\n",
       " 'i',\n",
       " 'would',\n",
       " \"'ve\",\n",
       " 'been',\n",
       " 'the',\n",
       " 'first',\n",
       " ',',\n",
       " 'but',\n",
       " 'i',\n",
       " 'did',\n",
       " \"n't\",\n",
       " 'have',\n",
       " 'a',\n",
       " 'gun',\n",
       " '.',\n",
       " 'not',\n",
       " 'really',\n",
       " 'though',\n",
       " ',',\n",
       " 'zac',\n",
       " 'snyder',\n",
       " \"'s\",\n",
       " 'just',\n",
       " 'a',\n",
       " 'doucheclown',\n",
       " '.']"
      ]
     },
     "execution_count": 52,
     "metadata": {},
     "output_type": "execute_result"
    }
   ],
   "source": [
    "word_tokenize(data.loc[13, \"text\"])"
   ]
  },
  {
   "cell_type": "markdown",
   "id": "fa40a238",
   "metadata": {},
   "source": [
    "### Convert text to lower case"
   ]
  },
  {
   "cell_type": "code",
   "execution_count": 54,
   "id": "42856681",
   "metadata": {},
   "outputs": [],
   "source": [
    "reviews = list(data[\"text\"])"
   ]
  },
  {
   "cell_type": "code",
   "execution_count": 55,
   "id": "7976bf10",
   "metadata": {
    "scrolled": true
   },
   "outputs": [
    {
     "data": {
      "text/plain": [
       "1501"
      ]
     },
     "execution_count": 55,
     "metadata": {},
     "output_type": "execute_result"
    }
   ],
   "source": [
    "len(reviews)"
   ]
  },
  {
   "cell_type": "code",
   "execution_count": 56,
   "id": "f6d9f036",
   "metadata": {},
   "outputs": [
    {
     "data": {
      "text/plain": [
       "\"@smarrison i would've been the first, but i didn't have a gun.    not really though, zac snyder's just a doucheclown.\""
      ]
     },
     "execution_count": 56,
     "metadata": {},
     "output_type": "execute_result"
    }
   ],
   "source": [
    "reviews[13]"
   ]
  },
  {
   "cell_type": "code",
   "execution_count": 57,
   "id": "63568983",
   "metadata": {},
   "outputs": [],
   "source": [
    "reviews_lower = [r.lower() for r in reviews]"
   ]
  },
  {
   "cell_type": "code",
   "execution_count": 58,
   "id": "88b291e8",
   "metadata": {},
   "outputs": [
    {
     "data": {
      "text/plain": [
       "\"@smarrison i would've been the first, but i didn't have a gun.    not really though, zac snyder's just a doucheclown.\""
      ]
     },
     "execution_count": 58,
     "metadata": {},
     "output_type": "execute_result"
    }
   ],
   "source": [
    "reviews_lower[13]"
   ]
  },
  {
   "cell_type": "code",
   "execution_count": 59,
   "id": "6098e882",
   "metadata": {},
   "outputs": [],
   "source": [
    "reviews_lower = []\n",
    "for r in reviews:\n",
    "    reviews_lower.append(r.lower())"
   ]
  },
  {
   "cell_type": "code",
   "execution_count": 60,
   "id": "db39498c",
   "metadata": {},
   "outputs": [],
   "source": [
    "tokens = [word_tokenize(r) for r in reviews_lower]"
   ]
  },
  {
   "cell_type": "code",
   "execution_count": 61,
   "id": "c44025a5",
   "metadata": {},
   "outputs": [
    {
     "data": {
      "text/plain": [
       "['@',\n",
       " 'smarrison',\n",
       " 'i',\n",
       " 'would',\n",
       " \"'ve\",\n",
       " 'been',\n",
       " 'the',\n",
       " 'first',\n",
       " ',',\n",
       " 'but',\n",
       " 'i',\n",
       " 'did',\n",
       " \"n't\",\n",
       " 'have',\n",
       " 'a',\n",
       " 'gun',\n",
       " '.',\n",
       " 'not',\n",
       " 'really',\n",
       " 'though',\n",
       " ',',\n",
       " 'zac',\n",
       " 'snyder',\n",
       " \"'s\",\n",
       " 'just',\n",
       " 'a',\n",
       " 'doucheclown',\n",
       " '.']"
      ]
     },
     "execution_count": 61,
     "metadata": {},
     "output_type": "execute_result"
    }
   ],
   "source": [
    "tokens[13]"
   ]
  },
  {
   "cell_type": "code",
   "execution_count": 62,
   "id": "6f747736",
   "metadata": {},
   "outputs": [
    {
     "data": {
      "text/plain": [
       "1501"
      ]
     },
     "execution_count": 62,
     "metadata": {},
     "output_type": "execute_result"
    }
   ],
   "source": [
    "len(tokens)"
   ]
  },
  {
   "cell_type": "markdown",
   "id": "da647ba5",
   "metadata": {},
   "source": [
    "# Stopwords removal"
   ]
  },
  {
   "cell_type": "code",
   "execution_count": 63,
   "id": "5366689a",
   "metadata": {},
   "outputs": [],
   "source": [
    "sw = stopwords.words('english')"
   ]
  },
  {
   "cell_type": "code",
   "execution_count": 64,
   "id": "7b696f93",
   "metadata": {},
   "outputs": [
    {
     "data": {
      "text/plain": [
       "['i', 'me', 'my', 'myself', 'we', 'our', 'ours', 'ourselves', 'you', \"you're\"]"
      ]
     },
     "execution_count": 64,
     "metadata": {},
     "output_type": "execute_result"
    }
   ],
   "source": [
    "sw[:10]"
   ]
  },
  {
   "cell_type": "code",
   "execution_count": 65,
   "id": "e65a3a01",
   "metadata": {},
   "outputs": [],
   "source": [
    "tokens = [[word for word in t if word not in sw] for t in tokens]"
   ]
  },
  {
   "cell_type": "code",
   "execution_count": 66,
   "id": "fdf1f198",
   "metadata": {},
   "outputs": [
    {
     "data": {
      "text/plain": [
       "['@',\n",
       " 'smarrison',\n",
       " 'would',\n",
       " \"'ve\",\n",
       " 'first',\n",
       " ',',\n",
       " \"n't\",\n",
       " 'gun',\n",
       " '.',\n",
       " 'really',\n",
       " 'though',\n",
       " ',',\n",
       " 'zac',\n",
       " 'snyder',\n",
       " \"'s\",\n",
       " 'doucheclown',\n",
       " '.']"
      ]
     },
     "execution_count": 66,
     "metadata": {},
     "output_type": "execute_result"
    }
   ],
   "source": [
    "tokens[13]"
   ]
  },
  {
   "cell_type": "code",
   "execution_count": 67,
   "id": "87bd4391",
   "metadata": {},
   "outputs": [
    {
     "data": {
      "text/plain": [
       "\"@smarrison i would've been the first, but i didn't have a gun.    not really though, zac snyder's just a doucheclown.\""
      ]
     },
     "execution_count": 67,
     "metadata": {},
     "output_type": "execute_result"
    }
   ],
   "source": [
    "reviews[13]"
   ]
  },
  {
   "cell_type": "markdown",
   "id": "fa218c91",
   "metadata": {},
   "source": [
    "### Remove punctuations"
   ]
  },
  {
   "cell_type": "code",
   "execution_count": 68,
   "id": "c8ca9513",
   "metadata": {},
   "outputs": [],
   "source": [
    "tokenizer = RegexpTokenizer(r'\\w+')"
   ]
  },
  {
   "cell_type": "code",
   "execution_count": 69,
   "id": "f5549185",
   "metadata": {},
   "outputs": [
    {
     "data": {
      "text/plain": [
       "['wasn', 't']"
      ]
     },
     "execution_count": 69,
     "metadata": {},
     "output_type": "execute_result"
    }
   ],
   "source": [
    "tokenizer.tokenize(\"wasn't\")"
   ]
  },
  {
   "cell_type": "code",
   "execution_count": 70,
   "id": "fe82a0fb",
   "metadata": {},
   "outputs": [],
   "source": [
    "t = tokenizer.tokenize(\"wasn't\")"
   ]
  },
  {
   "cell_type": "code",
   "execution_count": 71,
   "id": "44054633",
   "metadata": {},
   "outputs": [
    {
     "data": {
      "text/plain": [
       "'wasnt'"
      ]
     },
     "execution_count": 71,
     "metadata": {},
     "output_type": "execute_result"
    }
   ],
   "source": [
    "\"\".join(t)"
   ]
  },
  {
   "cell_type": "code",
   "execution_count": 72,
   "id": "0ca9de16",
   "metadata": {},
   "outputs": [
    {
     "data": {
      "text/plain": [
       "[]"
      ]
     },
     "execution_count": 72,
     "metadata": {},
     "output_type": "execute_result"
    }
   ],
   "source": [
    "tokenizer.tokenize(\":\")"
   ]
  },
  {
   "cell_type": "code",
   "execution_count": 73,
   "id": "9019d2de",
   "metadata": {},
   "outputs": [],
   "source": [
    "tokens = [[\"\".join(tokenizer.tokenize(word)) for word in t\n",
    "           if len(tokenizer.tokenize(word))>0] for t in tokens]"
   ]
  },
  {
   "cell_type": "code",
   "execution_count": 74,
   "id": "e4af0982",
   "metadata": {},
   "outputs": [
    {
     "data": {
      "text/plain": [
       "['smarrison',\n",
       " 'would',\n",
       " 've',\n",
       " 'first',\n",
       " 'nt',\n",
       " 'gun',\n",
       " 'really',\n",
       " 'though',\n",
       " 'zac',\n",
       " 'snyder',\n",
       " 's',\n",
       " 'doucheclown']"
      ]
     },
     "execution_count": 74,
     "metadata": {},
     "output_type": "execute_result"
    }
   ],
   "source": [
    "tokens[13]"
   ]
  },
  {
   "cell_type": "code",
   "execution_count": 75,
   "id": "2a3c0165",
   "metadata": {},
   "outputs": [
    {
     "data": {
      "text/plain": [
       "\"@smarrison i would've been the first, but i didn't have a gun.    not really though, zac snyder's just a doucheclown.\""
      ]
     },
     "execution_count": 75,
     "metadata": {},
     "output_type": "execute_result"
    }
   ],
   "source": [
    "reviews[13]"
   ]
  },
  {
   "cell_type": "markdown",
   "id": "ad288a6d",
   "metadata": {},
   "source": [
    "# Stemming"
   ]
  },
  {
   "cell_type": "code",
   "execution_count": 76,
   "id": "4aeea363",
   "metadata": {},
   "outputs": [],
   "source": [
    "porter = PorterStemmer()\n",
    "lancaster = LancasterStemmer()"
   ]
  },
  {
   "cell_type": "code",
   "execution_count": 77,
   "id": "f524b5a7",
   "metadata": {},
   "outputs": [
    {
     "data": {
      "text/plain": [
       "'teacher'"
      ]
     },
     "execution_count": 77,
     "metadata": {},
     "output_type": "execute_result"
    }
   ],
   "source": [
    "porter.stem(\"teachers\")"
   ]
  },
  {
   "cell_type": "code",
   "execution_count": 78,
   "id": "79c3e96e",
   "metadata": {},
   "outputs": [
    {
     "data": {
      "text/plain": [
       "'teach'"
      ]
     },
     "execution_count": 78,
     "metadata": {},
     "output_type": "execute_result"
    }
   ],
   "source": [
    "lancaster.stem(\"teachers\")"
   ]
  },
  {
   "cell_type": "code",
   "execution_count": 79,
   "id": "5500088f",
   "metadata": {},
   "outputs": [
    {
     "data": {
      "text/plain": [
       "'absolut'"
      ]
     },
     "execution_count": 79,
     "metadata": {},
     "output_type": "execute_result"
    }
   ],
   "source": [
    "porter.stem(\"absolutely\")"
   ]
  },
  {
   "cell_type": "code",
   "execution_count": 80,
   "id": "a43bb2ba",
   "metadata": {},
   "outputs": [
    {
     "data": {
      "text/plain": [
       "'absolv'"
      ]
     },
     "execution_count": 80,
     "metadata": {},
     "output_type": "execute_result"
    }
   ],
   "source": [
    "lancaster.stem(\"absolutely\")"
   ]
  },
  {
   "cell_type": "code",
   "execution_count": 81,
   "id": "826ea50f",
   "metadata": {},
   "outputs": [],
   "source": [
    "tokens = [[porter.stem(word) for word in t] for t in tokens]"
   ]
  },
  {
   "cell_type": "code",
   "execution_count": 82,
   "id": "06da3738",
   "metadata": {},
   "outputs": [
    {
     "data": {
      "text/plain": [
       "['smarrison',\n",
       " 'would',\n",
       " 've',\n",
       " 'first',\n",
       " 'nt',\n",
       " 'gun',\n",
       " 'realli',\n",
       " 'though',\n",
       " 'zac',\n",
       " 'snyder',\n",
       " 's',\n",
       " 'doucheclown']"
      ]
     },
     "execution_count": 82,
     "metadata": {},
     "output_type": "execute_result"
    }
   ],
   "source": [
    "tokens[13]"
   ]
  },
  {
   "cell_type": "code",
   "execution_count": 83,
   "id": "42a0a985",
   "metadata": {},
   "outputs": [
    {
     "data": {
      "text/plain": [
       "\"@smarrison i would've been the first, but i didn't have a gun.    not really though, zac snyder's just a doucheclown.\""
      ]
     },
     "execution_count": 83,
     "metadata": {},
     "output_type": "execute_result"
    }
   ],
   "source": [
    "reviews[13]"
   ]
  },
  {
   "cell_type": "markdown",
   "id": "e5780d6a",
   "metadata": {},
   "source": [
    "# Word count distribution"
   ]
  },
  {
   "cell_type": "code",
   "execution_count": 84,
   "id": "db8705a4",
   "metadata": {},
   "outputs": [],
   "source": [
    "flat_tokens = [word for t in tokens for word in t]"
   ]
  },
  {
   "cell_type": "code",
   "execution_count": 85,
   "id": "1cd37f07",
   "metadata": {},
   "outputs": [
    {
     "data": {
      "text/plain": [
       "12263"
      ]
     },
     "execution_count": 85,
     "metadata": {},
     "output_type": "execute_result"
    }
   ],
   "source": [
    "len(flat_tokens)"
   ]
  },
  {
   "cell_type": "code",
   "execution_count": 86,
   "id": "4f712e81",
   "metadata": {},
   "outputs": [
    {
     "data": {
      "text/plain": [
       "['upset',\n",
       " 'ca',\n",
       " 'nt',\n",
       " 'updat',\n",
       " 'facebook',\n",
       " 'text',\n",
       " 'might',\n",
       " 'cri',\n",
       " 'result',\n",
       " 'school']"
      ]
     },
     "execution_count": 86,
     "metadata": {},
     "output_type": "execute_result"
    }
   ],
   "source": [
    "flat_tokens[:10]"
   ]
  },
  {
   "cell_type": "code",
   "execution_count": 87,
   "id": "0b7c4641",
   "metadata": {},
   "outputs": [],
   "source": [
    "counts = Counter(flat_tokens)"
   ]
  },
  {
   "cell_type": "code",
   "execution_count": 88,
   "id": "6c0b5e85",
   "metadata": {},
   "outputs": [
    {
     "data": {
      "text/plain": [
       "4100"
      ]
     },
     "execution_count": 88,
     "metadata": {},
     "output_type": "execute_result"
    }
   ],
   "source": [
    "len(counts)"
   ]
  },
  {
   "cell_type": "code",
   "execution_count": 89,
   "id": "27044c50",
   "metadata": {},
   "outputs": [
    {
     "data": {
      "text/plain": [
       "[('nt', 189),\n",
       " ('s', 159),\n",
       " ('m', 148),\n",
       " ('go', 124),\n",
       " ('get', 105),\n",
       " ('good', 94),\n",
       " ('love', 89),\n",
       " ('quot', 88),\n",
       " ('day', 83),\n",
       " ('time', 78)]"
      ]
     },
     "execution_count": 89,
     "metadata": {},
     "output_type": "execute_result"
    }
   ],
   "source": [
    "counts.most_common(10)"
   ]
  },
  {
   "cell_type": "markdown",
   "id": "8a7145eb",
   "metadata": {},
   "source": [
    "# Bag of Words"
   ]
  },
  {
   "cell_type": "code",
   "execution_count": 90,
   "id": "8ceece36",
   "metadata": {},
   "outputs": [
    {
     "data": {
      "text/plain": [
       "['smarrison',\n",
       " 'would',\n",
       " 've',\n",
       " 'first',\n",
       " 'nt',\n",
       " 'gun',\n",
       " 'realli',\n",
       " 'though',\n",
       " 'zac',\n",
       " 'snyder',\n",
       " 's',\n",
       " 'doucheclown']"
      ]
     },
     "execution_count": 90,
     "metadata": {},
     "output_type": "execute_result"
    }
   ],
   "source": [
    "tokens[13]"
   ]
  },
  {
   "cell_type": "code",
   "execution_count": 91,
   "id": "20148bfa",
   "metadata": {},
   "outputs": [
    {
     "data": {
      "text/plain": [
       "'smarrison would ve first nt gun realli though zac snyder s doucheclown'"
      ]
     },
     "execution_count": 91,
     "metadata": {},
     "output_type": "execute_result"
    }
   ],
   "source": [
    "\" \".join(tokens[13])"
   ]
  },
  {
   "cell_type": "code",
   "execution_count": 92,
   "id": "c2182b74",
   "metadata": {},
   "outputs": [],
   "source": [
    "clean_reviews = [\" \".join(t) for t in tokens]"
   ]
  },
  {
   "cell_type": "code",
   "execution_count": 93,
   "id": "534e48d5",
   "metadata": {},
   "outputs": [
    {
     "data": {
      "text/plain": [
       "'smarrison would ve first nt gun realli though zac snyder s doucheclown'"
      ]
     },
     "execution_count": 93,
     "metadata": {},
     "output_type": "execute_result"
    }
   ],
   "source": [
    "clean_reviews[13]"
   ]
  },
  {
   "cell_type": "code",
   "execution_count": 94,
   "id": "fd0ab97a",
   "metadata": {},
   "outputs": [],
   "source": [
    "vect = CountVectorizer(binary=True, min_df=5)"
   ]
  },
  {
   "cell_type": "code",
   "execution_count": 95,
   "id": "d35f889d",
   "metadata": {},
   "outputs": [],
   "source": [
    "X = vect.fit_transform(clean_reviews)"
   ]
  },
  {
   "cell_type": "code",
   "execution_count": 96,
   "id": "4039e6ab",
   "metadata": {},
   "outputs": [
    {
     "data": {
      "text/plain": [
       "(1501, 418)"
      ]
     },
     "execution_count": 96,
     "metadata": {},
     "output_type": "execute_result"
    }
   ],
   "source": [
    "X.shape"
   ]
  },
  {
   "cell_type": "markdown",
   "id": "78d386fd",
   "metadata": {},
   "source": [
    "### Unique words in the vocabulary"
   ]
  },
  {
   "cell_type": "code",
   "execution_count": 97,
   "id": "6c9da9ce",
   "metadata": {},
   "outputs": [
    {
     "data": {
      "text/plain": [
       "418"
      ]
     },
     "execution_count": 97,
     "metadata": {},
     "output_type": "execute_result"
    }
   ],
   "source": [
    "len(vect.vocabulary_)"
   ]
  },
  {
   "cell_type": "markdown",
   "id": "0b3a9945",
   "metadata": {},
   "source": [
    "### Convert the sparse matrix to array"
   ]
  },
  {
   "cell_type": "code",
   "execution_count": 98,
   "id": "f4a6ce3e",
   "metadata": {},
   "outputs": [
    {
     "data": {
      "text/plain": [
       "scipy.sparse.csr.csr_matrix"
      ]
     },
     "execution_count": 98,
     "metadata": {},
     "output_type": "execute_result"
    }
   ],
   "source": [
    "type(X)"
   ]
  },
  {
   "cell_type": "code",
   "execution_count": 99,
   "id": "40e94c86",
   "metadata": {},
   "outputs": [],
   "source": [
    "X_a = X.toarray()"
   ]
  },
  {
   "cell_type": "code",
   "execution_count": 100,
   "id": "673daeb2",
   "metadata": {},
   "outputs": [
    {
     "data": {
      "text/plain": [
       "(1501, 418)"
      ]
     },
     "execution_count": 100,
     "metadata": {},
     "output_type": "execute_result"
    }
   ],
   "source": [
    "X_a.shape"
   ]
  },
  {
   "cell_type": "code",
   "execution_count": 101,
   "id": "cd005ed0",
   "metadata": {},
   "outputs": [
    {
     "data": {
      "text/plain": [
       "array([0, 0, 0, 0, 0, 0, 0, 0, 0, 0, 0, 0, 0, 0, 0, 0, 0, 0, 0, 0, 0, 0,\n",
       "       0, 0, 0, 0, 0, 0, 0, 0, 0, 0, 0, 0, 0, 0, 0, 0, 0, 0, 0, 0, 0, 0,\n",
       "       0, 0, 0, 0, 0, 0, 0, 0, 0, 0, 0, 0, 0, 0, 0, 0, 0, 0, 0, 0, 0, 0,\n",
       "       0, 0, 0, 0, 0, 0, 0, 0, 0, 0, 0, 0, 0, 0, 0, 0, 0, 0, 0, 0, 0, 0,\n",
       "       0, 0, 0, 0, 0, 0, 0, 0, 0, 0, 0, 0, 0, 0, 0, 0, 0, 0, 0, 0, 0, 0,\n",
       "       0, 0, 0, 0, 0, 0, 0, 0, 0, 0, 1, 0, 0, 0, 0, 0, 0, 0, 0, 0, 0, 0,\n",
       "       0, 0, 0, 0, 0, 0, 0, 0, 0, 0, 0, 0, 0, 0, 0, 0, 0, 0, 0, 0, 0, 0,\n",
       "       0, 0, 0, 0, 0, 0, 0, 0, 0, 0, 0, 0, 0, 0, 0, 0, 0, 0, 0, 0, 0, 0,\n",
       "       0, 0, 0, 0, 0, 0, 0, 0, 0, 0, 0, 0, 0, 0, 0, 0, 0, 0, 0, 0, 0, 0,\n",
       "       0, 0, 0, 0, 0, 0, 0, 0, 0, 0, 0, 0, 0, 0, 0, 0, 0, 0, 0, 0, 0, 0,\n",
       "       0, 0, 0, 0, 0, 0, 0, 0, 0, 0, 0, 0, 0, 0, 0, 0, 0, 0, 0, 0, 0, 0,\n",
       "       0, 0, 0, 0, 0, 0, 0, 0, 0, 1, 0, 0, 0, 0, 0, 0, 0, 0, 0, 0, 0, 0,\n",
       "       0, 0, 0, 0, 0, 0, 0, 0, 0, 0, 0, 0, 0, 0, 0, 0, 0, 0, 0, 0, 0, 0,\n",
       "       0, 0, 0, 0, 0, 1, 0, 0, 0, 0, 0, 0, 0, 0, 0, 0, 0, 0, 0, 0, 0, 0,\n",
       "       0, 0, 0, 0, 0, 0, 0, 0, 0, 0, 0, 0, 0, 0, 0, 0, 0, 0, 0, 0, 0, 0,\n",
       "       0, 0, 0, 0, 0, 0, 0, 0, 0, 0, 0, 0, 0, 0, 0, 0, 0, 0, 0, 0, 0, 0,\n",
       "       0, 0, 0, 0, 1, 0, 0, 0, 0, 0, 0, 0, 0, 0, 0, 0, 0, 0, 0, 0, 0, 0,\n",
       "       0, 0, 0, 0, 0, 0, 0, 0, 1, 0, 0, 0, 0, 0, 0, 0, 0, 0, 0, 0, 0, 0,\n",
       "       0, 0, 0, 0, 0, 0, 0, 0, 0, 0, 0, 0, 1, 0, 0, 0, 0, 0, 0, 0, 0, 0],\n",
       "      dtype=int64)"
      ]
     },
     "execution_count": 101,
     "metadata": {},
     "output_type": "execute_result"
    }
   ],
   "source": [
    "X_a[13,:]"
   ]
  },
  {
   "cell_type": "code",
   "execution_count": 102,
   "id": "35ceddb7",
   "metadata": {},
   "outputs": [
    {
     "data": {
      "text/plain": [
       "6"
      ]
     },
     "execution_count": 102,
     "metadata": {},
     "output_type": "execute_result"
    }
   ],
   "source": [
    "X_a[13,:].sum()"
   ]
  },
  {
   "cell_type": "code",
   "execution_count": 103,
   "id": "e227645e",
   "metadata": {},
   "outputs": [
    {
     "data": {
      "text/plain": [
       "'smarrison would ve first nt gun realli though zac snyder s doucheclown'"
      ]
     },
     "execution_count": 103,
     "metadata": {},
     "output_type": "execute_result"
    }
   ],
   "source": [
    "clean_reviews[13]"
   ]
  },
  {
   "cell_type": "code",
   "execution_count": 105,
   "id": "66fb4b28",
   "metadata": {},
   "outputs": [
    {
     "data": {
      "text/plain": [
       "0"
      ]
     },
     "execution_count": 105,
     "metadata": {},
     "output_type": "execute_result"
    }
   ],
   "source": [
    "X_a[13,370]"
   ]
  },
  {
   "cell_type": "code",
   "execution_count": 106,
   "id": "b86f5d6a",
   "metadata": {},
   "outputs": [
    {
     "data": {
      "text/plain": [
       "405"
      ]
     },
     "execution_count": 106,
     "metadata": {},
     "output_type": "execute_result"
    }
   ],
   "source": [
    "vect.get_feature_names().index(\"work\")"
   ]
  },
  {
   "cell_type": "code",
   "execution_count": 107,
   "id": "1234e9fd",
   "metadata": {},
   "outputs": [
    {
     "data": {
      "text/plain": [
       "0"
      ]
     },
     "execution_count": 107,
     "metadata": {},
     "output_type": "execute_result"
    }
   ],
   "source": [
    "X_a[13,401]"
   ]
  },
  {
   "cell_type": "code",
   "execution_count": 108,
   "id": "a7733b84",
   "metadata": {},
   "outputs": [
    {
     "data": {
      "text/html": [
       "<div>\n",
       "<style scoped>\n",
       "    .dataframe tbody tr th:only-of-type {\n",
       "        vertical-align: middle;\n",
       "    }\n",
       "\n",
       "    .dataframe tbody tr th {\n",
       "        vertical-align: top;\n",
       "    }\n",
       "\n",
       "    .dataframe thead th {\n",
       "        text-align: right;\n",
       "    }\n",
       "</style>\n",
       "<table border=\"1\" class=\"dataframe\">\n",
       "  <thead>\n",
       "    <tr style=\"text-align: right;\">\n",
       "      <th></th>\n",
       "      <th>text</th>\n",
       "      <th>target</th>\n",
       "    </tr>\n",
       "  </thead>\n",
       "  <tbody>\n",
       "    <tr>\n",
       "      <th>0</th>\n",
       "      <td>is upset that he can't update his Facebook by ...</td>\n",
       "      <td>0</td>\n",
       "    </tr>\n",
       "    <tr>\n",
       "      <th>1</th>\n",
       "      <td>@Kenichan I dived many times for the ball. Man...</td>\n",
       "      <td>0</td>\n",
       "    </tr>\n",
       "    <tr>\n",
       "      <th>2</th>\n",
       "      <td>my whole body feels itchy and like its on fire</td>\n",
       "      <td>0</td>\n",
       "    </tr>\n",
       "    <tr>\n",
       "      <th>3</th>\n",
       "      <td>@nationwideclass no, it's not behaving at all....</td>\n",
       "      <td>0</td>\n",
       "    </tr>\n",
       "    <tr>\n",
       "      <th>4</th>\n",
       "      <td>@Kwesidei not the whole crew</td>\n",
       "      <td>0</td>\n",
       "    </tr>\n",
       "  </tbody>\n",
       "</table>\n",
       "</div>"
      ],
      "text/plain": [
       "                                                text  target\n",
       "0  is upset that he can't update his Facebook by ...       0\n",
       "1  @Kenichan I dived many times for the ball. Man...       0\n",
       "2    my whole body feels itchy and like its on fire        0\n",
       "3  @nationwideclass no, it's not behaving at all....       0\n",
       "4                      @Kwesidei not the whole crew        0"
      ]
     },
     "execution_count": 108,
     "metadata": {},
     "output_type": "execute_result"
    }
   ],
   "source": [
    "data.head()"
   ]
  },
  {
   "cell_type": "code",
   "execution_count": 109,
   "id": "f943bead",
   "metadata": {},
   "outputs": [
    {
     "name": "stderr",
     "output_type": "stream",
     "text": [
      "C:\\Users\\sneha\\AppData\\Local\\Temp/ipykernel_13332/3039991190.py:1: SettingWithCopyWarning: \n",
      "A value is trying to be set on a copy of a slice from a DataFrame.\n",
      "Try using .loc[row_indexer,col_indexer] = value instead\n",
      "\n",
      "See the caveats in the documentation: https://pandas.pydata.org/pandas-docs/stable/user_guide/indexing.html#returning-a-view-versus-a-copy\n",
      "  data[\"target\"] = data[\"target\"].apply(lambda x: 1 if x==4 else 0)\n"
     ]
    }
   ],
   "source": [
    "data[\"target\"] = data[\"target\"].apply(lambda x: 1 if x==4 else 0)"
   ]
  },
  {
   "cell_type": "code",
   "execution_count": 110,
   "id": "7bcead92",
   "metadata": {},
   "outputs": [],
   "source": [
    "y = data[\"target\"]"
   ]
  },
  {
   "cell_type": "markdown",
   "id": "7fcb7804",
   "metadata": {},
   "source": [
    "### Split the dataset into train and test"
   ]
  },
  {
   "cell_type": "code",
   "execution_count": 111,
   "id": "0a0b2968",
   "metadata": {},
   "outputs": [],
   "source": [
    "X_train, X_test, y_train, y_test = train_test_split(X, y, test_size=0.2,\n",
    "                                                   stratify=y, random_state=42)"
   ]
  },
  {
   "cell_type": "markdown",
   "id": "a0f64151",
   "metadata": {},
   "source": [
    "### Build a Logistic Regression model"
   ]
  },
  {
   "cell_type": "code",
   "execution_count": 112,
   "id": "8805bf78",
   "metadata": {},
   "outputs": [],
   "source": [
    "model = LogisticRegression()"
   ]
  },
  {
   "cell_type": "code",
   "execution_count": 113,
   "id": "85f9b1a7",
   "metadata": {},
   "outputs": [
    {
     "data": {
      "text/plain": [
       "LogisticRegression()"
      ]
     },
     "execution_count": 113,
     "metadata": {},
     "output_type": "execute_result"
    }
   ],
   "source": [
    "model.fit(X_train, y_train)"
   ]
  },
  {
   "cell_type": "code",
   "execution_count": 114,
   "id": "fb0cb2b7",
   "metadata": {},
   "outputs": [],
   "source": [
    "train_pred = model.predict(X_train)"
   ]
  },
  {
   "cell_type": "code",
   "execution_count": 115,
   "id": "3c50f036",
   "metadata": {},
   "outputs": [
    {
     "data": {
      "text/plain": [
       "0.8216666666666667"
      ]
     },
     "execution_count": 115,
     "metadata": {},
     "output_type": "execute_result"
    }
   ],
   "source": [
    "accuracy_score(y_train, train_pred)"
   ]
  },
  {
   "cell_type": "code",
   "execution_count": 116,
   "id": "794f093c",
   "metadata": {},
   "outputs": [
    {
     "data": {
      "text/plain": [
       "0.6378737541528239"
      ]
     },
     "execution_count": 116,
     "metadata": {},
     "output_type": "execute_result"
    }
   ],
   "source": [
    "test_pred = model.predict(X_test)\n",
    "accuracy_score(y_test, test_pred)"
   ]
  },
  {
   "cell_type": "markdown",
   "id": "400ac5ba",
   "metadata": {},
   "source": [
    "### Save both the vectorizer and the model"
   ]
  },
  {
   "cell_type": "code",
   "execution_count": 117,
   "id": "40b81d04",
   "metadata": {},
   "outputs": [],
   "source": [
    "with open(\"Output/binary_count_vect.pkl\", \"wb\") as f:\n",
    "    pickle.dump(vect, f)\n",
    "with open(\"Output/binary_count_vect_lr.pkl\", \"wb\") as f:\n",
    "    pickle.dump(model, f)"
   ]
  },
  {
   "cell_type": "code",
   "execution_count": null,
   "id": "7c3131c4",
   "metadata": {},
   "outputs": [],
   "source": []
  },
  {
   "cell_type": "code",
   "execution_count": 118,
   "id": "49d245c9",
   "metadata": {},
   "outputs": [],
   "source": [
    "vect = TfidfVectorizer(min_df=5)"
   ]
  },
  {
   "cell_type": "code",
   "execution_count": 119,
   "id": "aa7b9ab8",
   "metadata": {},
   "outputs": [],
   "source": [
    "X = vect.fit_transform(clean_reviews)"
   ]
  },
  {
   "cell_type": "code",
   "execution_count": 120,
   "id": "45868e24",
   "metadata": {},
   "outputs": [
    {
     "data": {
      "text/plain": [
       "(1501, 418)"
      ]
     },
     "execution_count": 120,
     "metadata": {},
     "output_type": "execute_result"
    }
   ],
   "source": [
    "X.shape"
   ]
  },
  {
   "cell_type": "code",
   "execution_count": 121,
   "id": "fb62c376",
   "metadata": {},
   "outputs": [],
   "source": [
    "X_train, X_test, y_train, y_test = train_test_split(X, y, test_size=0.2,\n",
    "                                                   stratify=y, random_state=42)"
   ]
  },
  {
   "cell_type": "code",
   "execution_count": 122,
   "id": "9e7e02dd",
   "metadata": {},
   "outputs": [
    {
     "data": {
      "text/plain": [
       "LogisticRegression()"
      ]
     },
     "execution_count": 122,
     "metadata": {},
     "output_type": "execute_result"
    }
   ],
   "source": [
    "model = LogisticRegression()\n",
    "model.fit(X_train, y_train)"
   ]
  },
  {
   "cell_type": "code",
   "execution_count": 123,
   "id": "7a56989b",
   "metadata": {},
   "outputs": [
    {
     "name": "stdout",
     "output_type": "stream",
     "text": [
      "Train Accuracy:0.8016666666666666\n",
      "Test Accuracy:0.6478405315614618\n"
     ]
    }
   ],
   "source": [
    "train_pred = model.predict(X_train)\n",
    "test_pred = model.predict(X_test)\n",
    "print(f\"Train Accuracy:{accuracy_score(y_train, train_pred)}\")\n",
    "print(f\"Test Accuracy:{accuracy_score(y_test, test_pred)}\")"
   ]
  },
  {
   "cell_type": "code",
   "execution_count": 124,
   "id": "a73fcb8e",
   "metadata": {},
   "outputs": [],
   "source": [
    "with open(\"Output/tf-idf.pkl\", \"wb\") as f:\n",
    "    pickle.dump(vect, f)\n",
    "with open(\"Output/tf-idf_lr.pkl\", \"wb\") as f:\n",
    "    pickle.dump(model, f)"
   ]
  },
  {
   "cell_type": "code",
   "execution_count": null,
   "id": "6911f271",
   "metadata": {},
   "outputs": [],
   "source": []
  }
 ],
 "metadata": {
  "kernelspec": {
   "display_name": "Python 3 (ipykernel)",
   "language": "python",
   "name": "python3"
  },
  "language_info": {
   "codemirror_mode": {
    "name": "ipython",
    "version": 3
   },
   "file_extension": ".py",
   "mimetype": "text/x-python",
   "name": "python",
   "nbconvert_exporter": "python",
   "pygments_lexer": "ipython3",
   "version": "3.9.7"
  }
 },
 "nbformat": 4,
 "nbformat_minor": 5
}
